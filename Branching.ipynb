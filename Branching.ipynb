{
 "cells": [
  {
   "cell_type": "code",
   "execution_count": 2,
   "id": "5e4da1f6-4f48-4439-b312-42c6477a5b56",
   "metadata": {},
   "outputs": [
    {
     "name": "stdout",
     "output_type": "stream",
     "text": [
      "The given number 34 is even.\n"
     ]
    }
   ],
   "source": [
    "a_number = 34\n",
    "if a_number % 2 == 0:\n",
    "  print(\"The given number {} is even.\".format(a_number))"
   ]
  },
  {
   "cell_type": "code",
   "execution_count": 5,
   "id": "dc724b33-7842-4a14-86a4-2db9291984a7",
   "metadata": {},
   "outputs": [
    {
     "name": "stdout",
     "output_type": "stream",
     "text": [
      "arya is a part of x.\n"
     ]
    }
   ],
   "source": [
    "x = (\"arya\",\"shubu\",\"shiri\")\n",
    "y = \"arya\"\n",
    "if y in x:\n",
    "    print(\"{} is a part of x.\".format(y))\n",
    "else:\n",
    "    print(\"{} does not belongs to x.\".format(y))"
   ]
  },
  {
   "cell_type": "code",
   "execution_count": 6,
   "id": "66010e93-6bbd-42aa-8487-f39e377c4c68",
   "metadata": {},
   "outputs": [
    {
     "name": "stdout",
     "output_type": "stream",
     "text": [
      "Cleina does not belongs to x.\n"
     ]
    }
   ],
   "source": [
    "x = (\"arya\",\"shubu\",\"shiri\")\n",
    "y = \"Cleina\"\n",
    "if y in x:\n",
    "    print(\"{} is a part of x.\".format(y))\n",
    "else:\n",
    "    print(\"{} does not belongs to x.\".format(y))"
   ]
  },
  {
   "cell_type": "code",
   "execution_count": 12,
   "id": "e3d9be59-06bd-4371-b090-2111fa026d08",
   "metadata": {},
   "outputs": [
    {
     "name": "stdout",
     "output_type": "stream",
     "text": [
      "today is the of pqr,the god of pqr.\n"
     ]
    }
   ],
   "source": [
    "x = \"thursday\"\n",
    "if x == \"sunday\":\n",
    "   print(\"today is the day of the sun.\")\n",
    "elif x == \"monday\":\n",
    "   print(\"today is the day of the moon.\")\n",
    "elif x == \"tuesday\":\n",
    "   print(\"today is the day of tyr,the god of war.\")\n",
    "elif x == \"wednesday\":\n",
    "   print(\"today is the of xyz ,the god of xyz.\")\n",
    "elif x == \"thursday\":\n",
    "   print (\"today is the of pqr,the god of pqr.\")\n",
    "elif x == \"friday\":\n",
    "   print(\"today is the day of qwe,the god of qwe.\")\n",
    "elif x == \"saturday\":\n",
    "   print(\"today is the day of zxc, the god of zxc.\")\n"
   ]
  },
  {
   "cell_type": "code",
   "execution_count": 14,
   "id": "1fdf1bd4-e7d7-471d-9a3f-de16cd3a6e92",
   "metadata": {},
   "outputs": [
    {
     "name": "stdout",
     "output_type": "stream",
     "text": [
      "there is no match of any day of Relation.\n"
     ]
    }
   ],
   "source": [
    "x = \"Relation\"\n",
    "if x == \"sunday\":\n",
    "   print(\"today is the day of the sun.\")\n",
    "elif x == \"monday\":\n",
    "   print(\"today is the day of the moon.\")\n",
    "elif x == \"tuesday\":\n",
    "   print(\"today is the day of tyr,the god of war.\")\n",
    "elif x == \"wednesday\":\n",
    "   print(\"today is the of xyz ,the god of xyz.\")\n",
    "elif x == \"thursday\":\n",
    "   print (\"today is the of pqr,the god of pqr.\")\n",
    "elif x == \"friday\":\n",
    "   print(\"today is the day of qwe,the god of qwe.\")\n",
    "elif x == \"saturday\":\n",
    "   print(\"today is the day of zxc, the god of zxc.\")\n",
    "else:\n",
    "    print(\"there is no match of any day of {}.\".format(x))"
   ]
  },
  {
   "cell_type": "code",
   "execution_count": 23,
   "id": "aaf9eb58-216a-4797-8b67-fd700c1bd0f7",
   "metadata": {},
   "outputs": [
    {
     "name": "stdout",
     "output_type": "stream",
     "text": [
      "The number 12 is not divisible by both numbers.\n"
     ]
    }
   ],
   "source": [
    " x = 12\n",
    "if x%3 == 0 and x%5==0:\n",
    "    print (\"The number {} is divisible by 3 and 5.\".format(x))\n",
    "elif x%5 == 0:\n",
    "    print(\"The number {} is only divisible by 5.\".format(x))\n",
    "else:\n",
    "    print(\"The number {} is not divisible by both numbers.\".format(x))"
   ]
  },
  {
   "cell_type": "code",
   "execution_count": 24,
   "id": "8dae97ab-9bbb-4484-8f1f-cd4ad37cf8ea",
   "metadata": {},
   "outputs": [
    {
     "name": "stdout",
     "output_type": "stream",
     "text": [
      "The number 15 is divisible by 3 and 5.\n"
     ]
    }
   ],
   "source": [
    " x = 15\n",
    "if x%3 == 0 and x%5==0:\n",
    "    print (\"The number {} is divisible by 3 and 5.\".format(x))\n",
    "elif x%5 == 0:\n",
    "    print(\"The number {} is only divisible by 5.\".format(x))\n",
    "else:\n",
    "    print(\"The number {} is not divisible by both numbers.\".format(x))"
   ]
  },
  {
   "cell_type": "code",
   "execution_count": 27,
   "id": "40300c35-7f60-494b-8d31-80fda1f49f5a",
   "metadata": {},
   "outputs": [
    {
     "name": "stdout",
     "output_type": "stream",
     "text": [
      "The number 20 is only divisible by 5.\n"
     ]
    }
   ],
   "source": [
    " x = 20\n",
    "if x%3 == 0 and x%5==0:\n",
    "    print (\"The number {} is divisible by 3 and 5.\".format(x))\n",
    "elif x%5 == 0:\n",
    "    print(\"The number {} is only divisible by 5.\".format(x))\n",
    "else:\n",
    "    print(\"The number {} is not divisible by both numbers.\".format(x))"
   ]
  },
  {
   "cell_type": "code",
   "execution_count": 44,
   "id": "383a4d76-d497-4273-b654-342dca1e1ed6",
   "metadata": {},
   "outputs": [
    {
     "name": "stdout",
     "output_type": "stream",
     "text": [
      "15 is Odd.\n"
     ]
    }
   ],
   "source": [
    "x = 15\n",
    "if x%2 ==0:\n",
    "    print(\"{} is even.\".format(x))\n",
    "    if x%3 == 0:\n",
    "         print(\"{} is divisible by 3.\".format(x))\n",
    "    else:\n",
    "         print(\"{} is not divisible by 3.\".format(x))\n",
    "else:\n",
    "    print(\"{} is Odd.\".format(x))\n",
    "   "
   ]
  },
  {
   "cell_type": "code",
   "execution_count": 45,
   "id": "3ff3191f-9ed6-45f2-b7d3-a0ad4cdcbc88",
   "metadata": {},
   "outputs": [
    {
     "name": "stdout",
     "output_type": "stream",
     "text": [
      "15 is even.\n",
      "15 is divisible by 3.\n"
     ]
    }
   ],
   "source": [
    "x = 15\n",
    "if x%5 ==0:\n",
    "    print(\"{} is even.\".format(x))\n",
    "    if x%3 == 0:\n",
    "         print(\"{} is divisible by 3.\".format(x))\n",
    "    else:\n",
    "         print(\"{} is not divisible by 3.\".format(x))\n",
    "else:\n",
    "    print(\"{} is Odd.\".format(x))\n",
    "    \n",
    "   "
   ]
  },
  {
   "cell_type": "code",
   "execution_count": 46,
   "id": "d3c4d8b6-cfdb-42bb-9840-16b2d8a4befc",
   "metadata": {},
   "outputs": [
    {
     "name": "stdout",
     "output_type": "stream",
     "text": [
      "15 is even.\n",
      "15 is divisible by 3.\n"
     ]
    }
   ],
   "source": [
    "x = 15\n",
    "if x%5 ==0:\n",
    "    print(\"{} is even.\".format(x))\n",
    "    if x%3 == 0:\n",
    "         print(\"{} is divisible by 3.\".format(x))\n",
    "    else:\n",
    "         print(\"{} is not divisible by 3.\".format(x))\n",
    "else:\n",
    "    print(\"{} is Odd.\".format(x))\n",
    "    print(\"{} is not divisible by 5.\".format(x))"
   ]
  },
  {
   "cell_type": "code",
   "execution_count": 63,
   "id": "892a781d-d85b-4122-a34c-1d4f5951386b",
   "metadata": {},
   "outputs": [
    {
     "name": "stdout",
     "output_type": "stream",
     "text": [
      "15 is Odd.\n"
     ]
    }
   ],
   "source": [
    "x = 15\n",
    "if x%2 ==0:\n",
    "    print(\"{} is even.\".format(x))\n",
    "    if x%3 == 0:\n",
    "         print(\"{} is divisible by 3.\".format(x))\n",
    "    else:\n",
    "         print(\"{} is not divisible by 3.\".format(x))\n",
    "else:\n",
    "    print(\"{} is Odd.\".format(x))\n",
    " "
   ]
  },
  {
   "cell_type": "code",
   "execution_count": 62,
   "id": "6515aafd-b67d-43e4-9539-79728da88eaa",
   "metadata": {},
   "outputs": [
    {
     "name": "stdout",
     "output_type": "stream",
     "text": [
      "16 is e.\n",
      "16 is not divisible by 5 and 3.\n"
     ]
    }
   ],
   "source": [
    "x = 16\n",
    "if x%5 ==0 and x%3 == 0:\n",
    "    print(\"{} is even.\".format(x))\n",
    "    if x%3 == 0:\n",
    "         print(\"{} is divisible by 3.\".format(x))\n",
    "    else:\n",
    "         print(\"{} is not divisible by 3.\".format(x))\n",
    "else:\n",
    "    print(\"{} is e.\".format(x))\n",
    "    print(\"{} is not divisible by 5 and 3.\".format(x))"
   ]
  },
  {
   "cell_type": "code",
   "execution_count": 64,
   "id": "ec41261b-0eef-4a56-96f4-d4453da6060a",
   "metadata": {},
   "outputs": [
    {
     "name": "stdout",
     "output_type": "stream",
     "text": [
      "15 is odd.\n",
      "15 is divisible by 3.\n"
     ]
    }
   ],
   "source": [
    "x = 15\n",
    "\n",
    "if x % 2 == 0:\n",
    "    print(\"{} is even.\".format(x))\n",
    "    \n",
    "    if x % 3 == 0:\n",
    "        print(\"{} is divisible by 3.\".format(x))\n",
    "    else:\n",
    "        print(\"{} is not divisible by 3.\".format(x))\n",
    "\n",
    "else:\n",
    "    print(\"{} is odd.\".format(x))\n",
    "    \n",
    "    if x % 3 == 0:\n",
    "        print(\"{} is divisible by 3.\".format(x))\n",
    "    else:\n",
    "        print(\"{} is not divisible by 3.\".format(x))\n"
   ]
  },
  {
   "cell_type": "code",
   "execution_count": 66,
   "id": "eb0eada3-6fcd-4ec2-a774-58e135f852ba",
   "metadata": {},
   "outputs": [
    {
     "name": "stdout",
     "output_type": "stream",
     "text": [
      "The number 24 is even.\n"
     ]
    }
   ],
   "source": [
    "x = 24\n",
    "if x%2 == 0:\n",
    "    parity ='even'\n",
    "else:\n",
    "    parity = 'Odd'\n",
    "print(\"The number {} is {}.\".format(x,parity))    "
   ]
  },
  {
   "cell_type": "code",
   "execution_count": null,
   "id": "d601863c-d949-4731-9daf-317ceb2ddd0c",
   "metadata": {},
   "outputs": [],
   "source": []
  }
 ],
 "metadata": {
  "kernelspec": {
   "display_name": "Python 3 (ipykernel)",
   "language": "python",
   "name": "python3"
  },
  "language_info": {
   "codemirror_mode": {
    "name": "ipython",
    "version": 3
   },
   "file_extension": ".py",
   "mimetype": "text/x-python",
   "name": "python",
   "nbconvert_exporter": "python",
   "pygments_lexer": "ipython3",
   "version": "3.13.1"
  }
 },
 "nbformat": 4,
 "nbformat_minor": 5
}
