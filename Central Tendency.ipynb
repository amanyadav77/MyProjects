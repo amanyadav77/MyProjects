{
 "cells": [
  {
   "cell_type": "code",
   "execution_count": 5,
   "id": "528ff1f6-50df-4a98-8c1d-e0e1e138d67d",
   "metadata": {},
   "outputs": [],
   "source": [
    "import pandas as pd\n",
    "import numpy as np\n",
    "import matplotlib as plt\n"
   ]
  },
  {
   "cell_type": "code",
   "execution_count": 3,
   "id": "f0de724f-f8b9-42c6-9506-bf91ea242b69",
   "metadata": {},
   "outputs": [
    {
     "name": "stdout",
     "output_type": "stream",
     "text": [
      "    S.No.  MTE (25)  Mini Project (25)  Total (50)  ETE (50)  Total\n",
      "0       1      5.00                 20       25.00      12.0  37.00\n",
      "1       2     11.05                 20       31.05      26.0  57.05\n",
      "2       3      8.10                 20       28.10      14.0  42.10\n",
      "3       4      6.00                 10       16.00      13.0  29.00\n",
      "4       5     11.35                 20       31.35      17.0  48.35\n",
      "..    ...       ...                ...         ...       ...    ...\n",
      "74     75     12.05                 10       22.05      20.0  42.05\n",
      "75     76     12.25                 10       22.25      28.0  50.25\n",
      "76     77      1.75                 10       11.75       NaN   0.00\n",
      "77     78      3.00                 10       13.00       NaN   0.00\n",
      "78     79      5.80                 10       15.80      12.0  27.80\n",
      "\n",
      "[79 rows x 6 columns]\n"
     ]
    }
   ],
   "source": [
    "import pandas as pd  # Make sure to import pandas\n",
    "\n",
    "path = 'C:/Users/aman5/Downloads/IBM-313 Marks.xlsx'\n",
    "table = pd.read_excel(path)  # Use pd.read_excel() instead of read_excel()\n",
    "print(table)\n"
   ]
  },
  {
   "cell_type": "code",
   "execution_count": 6,
   "id": "ec7590db-8604-4789-9aa3-f8c4612db783",
   "metadata": {},
   "outputs": [
    {
     "data": {
      "text/plain": [
       "np.float64(46.90632911392405)"
      ]
     },
     "execution_count": 6,
     "metadata": {},
     "output_type": "execute_result"
    }
   ],
   "source": [
    "#mean\n",
    "x = table['Total']\n",
    "np.mean(x)"
   ]
  },
  {
   "cell_type": "code",
   "execution_count": 7,
   "id": "9dc389eb-e682-4107-ab85-db2b6571c3c2",
   "metadata": {},
   "outputs": [
    {
     "data": {
      "text/plain": [
       "np.float64(45.0)"
      ]
     },
     "execution_count": 7,
     "metadata": {},
     "output_type": "execute_result"
    }
   ],
   "source": [
    "#median\n",
    "np.median(x)"
   ]
  },
  {
   "cell_type": "code",
   "execution_count": 12,
   "id": "f96c804e-93ea-4c3c-aa03-05d63f3b498a",
   "metadata": {},
   "outputs": [
    {
     "name": "stdout",
     "output_type": "stream",
     "text": [
      "48.35\n"
     ]
    }
   ],
   "source": [
    "#mode\n",
    "import statistics as stat  \n",
    "\n",
    "import scipy\n",
    "from scipy import stats\n",
    "stat.mode(x)\n",
    "print(stat.mode(x))"
   ]
  },
  {
   "cell_type": "code",
   "execution_count": 13,
   "id": "63cbc4be-68da-41e5-8554-59643a8c3090",
   "metadata": {},
   "outputs": [
    {
     "name": "stdout",
     "output_type": "stream",
     "text": [
      "3.0\n"
     ]
    }
   ],
   "source": [
    "#percentile\n",
    "a =np.array([1,2,3,4,5])\n",
    "p = np.percentile(a,50) # return 50th percentile\n",
    "print(p)"
   ]
  },
  {
   "cell_type": "code",
   "execution_count": 14,
   "id": "cc9c609f-6c69-4dd9-87a8-0471c71cf4f7",
   "metadata": {},
   "outputs": [
    {
     "name": "stdout",
     "output_type": "stream",
     "text": [
      "['Ram', 65, 2.5]\n"
     ]
    }
   ],
   "source": [
    "#EXAMPLE OF FOR LOOP\n",
    "k = ['Ram',65,2.5]\n",
    "print(k)"
   ]
  },
  {
   "cell_type": "code",
   "execution_count": 15,
   "id": "b78d39b7-b111-414b-9c4e-8dd8a2ed9f78",
   "metadata": {},
   "outputs": [
    {
     "name": "stdout",
     "output_type": "stream",
     "text": [
      "Ram\n",
      "65\n",
      "2.5\n"
     ]
    }
   ],
   "source": [
    "for i in k:\n",
    "    print (i)"
   ]
  },
  {
   "cell_type": "code",
   "execution_count": 16,
   "id": "df48c837-b52f-45e5-8f3a-2687058a1798",
   "metadata": {},
   "outputs": [
    {
     "name": "stdout",
     "output_type": "stream",
     "text": [
      "10\n",
      "12\n",
      "14\n",
      "16\n",
      "18\n"
     ]
    }
   ],
   "source": [
    "#RANGE \n",
    "for i in range(10,20,2):\n",
    "    print (i)"
   ]
  },
  {
   "cell_type": "code",
   "execution_count": 17,
   "id": "25d2f3b2-f431-49f3-8195-80eddd5d830a",
   "metadata": {},
   "outputs": [
    {
     "name": "stdout",
     "output_type": "stream",
     "text": [
      "10,12,14,16,18,"
     ]
    }
   ],
   "source": [
    "for i in range(10,20,2):\n",
    "    print(i,end=',')"
   ]
  },
  {
   "cell_type": "code",
   "execution_count": 19,
   "id": "17dbc465-e11a-4fad-8ca7-248471ce9b1f",
   "metadata": {},
   "outputs": [
    {
     "name": "stdout",
     "output_type": "stream",
     "text": [
      "Hello Aman\n",
      "Good Morning Aman\n"
     ]
    }
   ],
   "source": [
    "#FUNCTIONS IN PYTHON \n",
    "def greet():\n",
    "    print(\"Hello Aman\")\n",
    "    print(\"Good Morning Aman\")\n",
    "greet()    #CALLING A FUNCTION"
   ]
  },
  {
   "cell_type": "code",
   "execution_count": 25,
   "id": "523efe3a-1aef-4806-af90-4fe320914807",
   "metadata": {},
   "outputs": [
    {
     "name": "stdout",
     "output_type": "stream",
     "text": [
      "5\n"
     ]
    }
   ],
   "source": [
    "def add(a,b):\n",
    "    c = a+b\n",
    "    print(c)\n",
    "add(2,3)"
   ]
  },
  {
   "cell_type": "code",
   "execution_count": 26,
   "id": "45adb673-f053-4047-b68d-f8ed07c6995f",
   "metadata": {},
   "outputs": [
    {
     "data": {
      "text/plain": [
       "(1, 463)"
      ]
     },
     "execution_count": 26,
     "metadata": {},
     "output_type": "execute_result"
    }
   ],
   "source": [
    "#FINDING MINIMUM ANAD MAXIMUM VALUE\n",
    "data = [1,3,4,463,2,3,6,8,9,4,254,6,72]\n",
    "min(data),max(data)"
   ]
  },
  {
   "cell_type": "code",
   "execution_count": 31,
   "id": "7e45138a-3b31-4511-9816-c7bb0a80e7e7",
   "metadata": {},
   "outputs": [
    {
     "data": {
      "text/plain": [
       "(463, 1)"
      ]
     },
     "execution_count": 31,
     "metadata": {},
     "output_type": "execute_result"
    }
   ],
   "source": [
    "#FINDING MINIMUM ANAD MAXIMUM VALUE USING DEFINING A FUNCTION\n",
    "data = [1,3,4,463,2,3,6,8,9,4,254,6,72]\n",
    "def min_and_max(data):\n",
    "    min_val = min(data)\n",
    "    max_val = max(data)\n",
    "   # print(min_val)\n",
    "    #print(max_val)\n",
    "    return(max_val,min_val)\n",
    "min_and_max(data)    \n",
    " "
   ]
  },
  {
   "cell_type": "code",
   "execution_count": 32,
   "id": "9df9ebe6-ea63-4b53-92ea-092643979969",
   "metadata": {},
   "outputs": [
    {
     "data": {
      "text/plain": [
       "462"
      ]
     },
     "execution_count": 32,
     "metadata": {},
     "output_type": "execute_result"
    }
   ],
   "source": [
    "def range(data):\n",
    "    min_val =min(data)\n",
    "    max_val = max(data)\n",
    "    return(max_val - min_val)\n",
    "range(data)"
   ]
  },
  {
   "cell_type": "code",
   "execution_count": 33,
   "id": "31d9b3f8-5995-4b62-bc7c-ec32122315a8",
   "metadata": {},
   "outputs": [
    {
     "name": "stdout",
     "output_type": "stream",
     "text": [
      "2.0\n"
     ]
    }
   ],
   "source": [
    "#QUARTILE\n",
    "a = np.array([1,2,3,4,5])\n",
    "q1 = np.percentile(a,25)#RETURN 25TH PERCENTILE\n",
    "print(q1)"
   ]
  },
  {
   "cell_type": "code",
   "execution_count": 34,
   "id": "594d367b-9801-4f8c-a9da-5bdbf0b74ddb",
   "metadata": {},
   "outputs": [
    {
     "name": "stdout",
     "output_type": "stream",
     "text": [
      "3.0\n"
     ]
    }
   ],
   "source": [
    "q2 = np.percentile(a,50)#RETURN 50TH PERCENTILE\n",
    "print(q2)"
   ]
  },
  {
   "cell_type": "code",
   "execution_count": 35,
   "id": "636c6fec-665d-44f3-8bfe-3d13717f68e6",
   "metadata": {},
   "outputs": [
    {
     "name": "stdout",
     "output_type": "stream",
     "text": [
      "4.0\n"
     ]
    }
   ],
   "source": [
    "q3 = np.percentile(a,75)#RETURN 75TH PERCENTILE\n",
    "print(q3)"
   ]
  },
  {
   "cell_type": "code",
   "execution_count": 38,
   "id": "62788812-baf1-4b13-bcc5-59868ab286da",
   "metadata": {},
   "outputs": [
    {
     "name": "stdout",
     "output_type": "stream",
     "text": [
      "2.0\n"
     ]
    }
   ],
   "source": [
    "#INTER QUARTILE RANGE\n",
    "IQ = q3-q1\n",
    "print(IQ)"
   ]
  },
  {
   "cell_type": "code",
   "execution_count": 39,
   "id": "c6349b3d-d2b1-4305-baa4-d7145c8a6a08",
   "metadata": {},
   "outputs": [
    {
     "data": {
      "text/plain": [
       "np.float64(262.7814789296587)"
      ]
     },
     "execution_count": 39,
     "metadata": {},
     "output_type": "execute_result"
    }
   ],
   "source": [
    "#VARIANCE\n",
    "np.var(x)"
   ]
  },
  {
   "cell_type": "code",
   "execution_count": 41,
   "id": "b995e6f5-cfd5-4532-9585-35c3bbdcbd95",
   "metadata": {},
   "outputs": [
    {
     "data": {
      "text/plain": [
       "16.210536046955966"
      ]
     },
     "execution_count": 41,
     "metadata": {},
     "output_type": "execute_result"
    }
   ],
   "source": [
    "#POPULATION STANDARD DEVIATION\n",
    "import statistics\n",
    "statistics.pstdev(x)"
   ]
  },
  {
   "cell_type": "code",
   "execution_count": 43,
   "id": "65060486-4dd5-4b44-a916-ef68533d65a9",
   "metadata": {},
   "outputs": [
    {
     "data": {
      "text/plain": [
       "16.31411880088133"
      ]
     },
     "execution_count": 43,
     "metadata": {},
     "output_type": "execute_result"
    }
   ],
   "source": [
    "#SAMPLE STANDARD DEVIATION\n",
    "statistics.stdev(x)"
   ]
  },
  {
   "cell_type": "code",
   "execution_count": 44,
   "id": "607b9699-a34b-4cb2-b6eb-34497617b7dd",
   "metadata": {},
   "outputs": [
    {
     "data": {
      "text/plain": [
       "np.float64(16.210536046955966)"
      ]
     },
     "execution_count": 44,
     "metadata": {},
     "output_type": "execute_result"
    }
   ],
   "source": [
    "#STANDARD DEVIATION\n",
    "np.std(x)"
   ]
  },
  {
   "cell_type": "code",
   "execution_count": 46,
   "id": "8f532f7e-a80a-4bb0-b4a4-a4a97eb92e82",
   "metadata": {},
   "outputs": [
    {
     "data": {
      "text/plain": [
       "np.float64(0.10226407464884266)"
      ]
     },
     "execution_count": 46,
     "metadata": {},
     "output_type": "execute_result"
    }
   ],
   "source": [
    "from scipy.stats import skew\n",
    "skew(x)"
   ]
  },
  {
   "cell_type": "code",
   "execution_count": 50,
   "id": "06239bf2-c065-4b92-9814-40da774c0ff2",
   "metadata": {},
   "outputs": [
    {
     "data": {
      "image/png": "[encoded data removed]",
      "text/plain": [
       "<Figure size 640x480 with 1 Axes>"
      ]
     },
     "metadata": {},
     "output_type": "display_data"
    }
   ],
   "source": [
    "#BOX PLOT \n",
    "from matplotlib import pyplot as plt\n",
    "plt.boxplot(x,sym='*')\n",
    "plt.show()"
   ]
  },
  {
   "cell_type": "code",
   "execution_count": null,
   "id": "c5c49679-b5de-4e4d-8e15-9dccf1945292",
   "metadata": {},
   "outputs": [],
   "source": []
  }
 ],
 "metadata": {
  "kernelspec": {
   "display_name": "Python 3 (ipykernel)",
   "language": "python",
   "name": "python3"
  },
  "language_info": {
   "codemirror_mode": {
    "name": "ipython",
    "version": 3
   },
   "file_extension": ".py",
   "mimetype": "text/x-python",
   "name": "python",
   "nbconvert_exporter": "python",
   "pygments_lexer": "ipython3",
   "version": "3.13.1"
  }
 },
 "nbformat": 4,
 "nbformat_minor": 5
}
