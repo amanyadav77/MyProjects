{
 "cells": [
  {
   "cell_type": "code",
   "execution_count": 1,
   "id": "9b1b5749-5e32-44b8-b0be-9f3fabb19347",
   "metadata": {},
   "outputs": [
    {
     "data": {
      "text/plain": [
       "16"
      ]
     },
     "execution_count": 1,
     "metadata": {},
     "output_type": "execute_result"
    }
   ],
   "source": [
    "3+4+6+3"
   ]
  },
  {
   "cell_type": "code",
   "execution_count": 6,
   "id": "183e9151-9a1e-46b5-88fc-ab1a275aa4ec",
   "metadata": {},
   "outputs": [
    {
     "data": {
      "text/plain": [
       "-3201"
      ]
     },
     "execution_count": 6,
     "metadata": {},
     "output_type": "execute_result"
    }
   ],
   "source": [
    "99-3300"
   ]
  },
  {
   "cell_type": "code",
   "execution_count": 3,
   "id": "07a4092a-bf8a-4d2b-a619-de6d121606f3",
   "metadata": {},
   "outputs": [
    {
     "data": {
      "text/plain": [
       "-12"
      ]
     },
     "execution_count": 3,
     "metadata": {},
     "output_type": "execute_result"
    }
   ],
   "source": [
    "3 * -4"
   ]
  },
  {
   "cell_type": "code",
   "execution_count": 4,
   "id": "35ecc04f-93e7-455f-b021-615daa0471b8",
   "metadata": {},
   "outputs": [
    {
     "data": {
      "text/plain": [
       "27.5"
      ]
     },
     "execution_count": 4,
     "metadata": {},
     "output_type": "execute_result"
    }
   ],
   "source": [
    "110/4"
   ]
  },
  {
   "cell_type": "code",
   "execution_count": 5,
   "id": "a5a87789-38ae-42c6-9944-9f89dfed0277",
   "metadata": {},
   "outputs": [
    {
     "data": {
      "text/plain": [
       "27"
      ]
     },
     "execution_count": 5,
     "metadata": {},
     "output_type": "execute_result"
    }
   ],
   "source": [
    "110//4"
   ]
  },
  {
   "cell_type": "code",
   "execution_count": 7,
   "id": "5f0549cd-eab9-4d04-bba3-436fb2d07015",
   "metadata": {},
   "outputs": [
    {
     "data": {
      "text/plain": [
       "0"
      ]
     },
     "execution_count": 7,
     "metadata": {},
     "output_type": "execute_result"
    }
   ],
   "source": [
    "100%5"
   ]
  },
  {
   "cell_type": "code",
   "execution_count": 8,
   "id": "4ac238ae-dbbd-40f2-90ce-4ab22dbd936b",
   "metadata": {},
   "outputs": [
    {
     "data": {
      "text/plain": [
       "25"
      ]
     },
     "execution_count": 8,
     "metadata": {},
     "output_type": "execute_result"
    }
   ],
   "source": [
    "5**2"
   ]
  },
  {
   "cell_type": "code",
   "execution_count": 9,
   "id": "d378019b-6d96-4994-b26c-80479934c073",
   "metadata": {},
   "outputs": [
    {
     "data": {
      "text/plain": [
       "1.53125"
      ]
     },
     "execution_count": 9,
     "metadata": {},
     "output_type": "execute_result"
    }
   ],
   "source": [
    "((2 + 5) * (17 - 3)) / (4 ** 3)"
   ]
  },
  {
   "cell_type": "code",
   "execution_count": 10,
   "id": "4bc30e3d-2678-4caf-8037-5b2d863defe6",
   "metadata": {},
   "outputs": [
    {
     "data": {
      "text/plain": [
       "0.4444444444444444"
      ]
     },
     "execution_count": 10,
     "metadata": {},
     "output_type": "execute_result"
    }
   ],
   "source": [
    "((3-2)+(34-23))/(3**3)"
   ]
  },
  {
   "cell_type": "code",
   "execution_count": 11,
   "id": "22ca4492-e244-4152-a6e0-ffbd69f5cc49",
   "metadata": {},
   "outputs": [
    {
     "data": {
      "text/plain": [
       "0"
      ]
     },
     "execution_count": 11,
     "metadata": {},
     "output_type": "execute_result"
    }
   ],
   "source": [
    "((3-2)+(34-23))//(3**3)"
   ]
  },
  {
   "cell_type": "code",
   "execution_count": 13,
   "id": "c1bc6569-31d6-4cce-aa03-c0e7a2c56f76",
   "metadata": {},
   "outputs": [
    {
     "name": "stdout",
     "output_type": "stream",
     "text": [
      "The sum of X and Y is: 67\n"
     ]
    }
   ],
   "source": [
    " X=23\n",
    "Y=44\n",
    "Z=X+Y\n",
    "print(\"The sum of X and Y is:\",Z)"
   ]
  },
  {
   "cell_type": "code",
   "execution_count": 42,
   "id": "ddfc51f7-2554-4622-a85d-911289bb4a7c",
   "metadata": {},
   "outputs": [
    {
     "name": "stdout",
     "output_type": "stream",
     "text": [
      "both values are different\n"
     ]
    }
   ],
   "source": [
    "x = 22\n",
    "y = 23\n",
    "if x == y:\n",
    "    print(\"both values are equal\")\n",
    "else:\n",
    "    print(\"both values are different\")"
   ]
  },
  {
   "cell_type": "code",
   "execution_count": 35,
   "id": "06758f89-4b72-4917-8df5-ca7ee27056f3",
   "metadata": {},
   "outputs": [
    {
     "name": "stdout",
     "output_type": "stream",
     "text": [
      "both values are equal\n"
     ]
    }
   ],
   "source": [
    "x = 22\n",
    "y = 23\n",
    "\n",
    "if x % 2 == 0:  # Checking if x is even\n",
    "    print(\"both values are equal\")  # This message is misleading\n",
    "else:\n",
    "    print(\"both values are different\")\n"
   ]
  },
  {
   "cell_type": "code",
   "execution_count": 76,
   "id": "fd077a74-727e-4d6d-92a9-c54888bd67f7",
   "metadata": {},
   "outputs": [
    {
     "data": {
      "text/plain": [
       "False"
      ]
     },
     "execution_count": 76,
     "metadata": {},
     "output_type": "execute_result"
    }
   ],
   "source": [
    "my_favourite_number = 77\n",
    "my_favourite_least_number = 15\n",
    "my_favourite_max_number = 77\n",
    "\n",
    "\n",
    "my_favourite_number == my_favourite_least_number\n",
    "my_favourite_number == my_favourite_max_number\n",
    "my_favourite_number != my_favourite_least_number\n",
    "my_favourite_least_number >= my_favourite_max_number\n",
    "my_favourite_max_number <= my_favourite_number\n",
    "my_favourite_number == 77\n",
    "my_favourite_least_number != 15\n",
    "\n"
   ]
  },
  {
   "cell_type": "code",
   "execution_count": 74,
   "id": "ba1b7319-b6fe-41a6-8a63-08e07f4b0f3b",
   "metadata": {},
   "outputs": [
    {
     "data": {
      "text/plain": [
       "True"
      ]
     },
     "execution_count": 74,
     "metadata": {},
     "output_type": "execute_result"
    }
   ],
   "source": [
    "my_favourite_number = 77\n",
    "my_favourite_least_number = 15\n",
    "my_favourite_max_number = 77\n",
    "my_favourite_number == 77"
   ]
  },
  {
   "cell_type": "code",
   "execution_count": null,
   "id": "65dd7ca3-174e-46f8-92fa-8300e72105b8",
   "metadata": {},
   "outputs": [],
   "source": []
  }
 ],
 "metadata": {
  "kernelspec": {
   "display_name": "Python 3 (ipykernel)",
   "language": "python",
   "name": "python3"
  },
  "language_info": {
   "codemirror_mode": {
    "name": "ipython",
    "version": 3
   },
   "file_extension": ".py",
   "mimetype": "text/x-python",
   "name": "python",
   "nbconvert_exporter": "python",
   "pygments_lexer": "ipython3",
   "version": "3.13.1"
  }
 },
 "nbformat": 4,
 "nbformat_minor": 5
}
